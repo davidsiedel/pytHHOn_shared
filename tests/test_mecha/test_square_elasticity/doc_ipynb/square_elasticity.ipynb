{
 "cells": [
  {
   "cell_type": "markdown",
   "id": "transsexual-watch",
   "metadata": {},
   "source": [
    "# TRACTION TEST\n",
    "\n",
    "The first test, a square is pulled on. Import library and relevant classes\n",
    "\n",
    "![image info](img/square.png)"
   ]
  },
  {
   "cell_type": "code",
   "execution_count": 1,
   "id": "narrow-scratch",
   "metadata": {},
   "outputs": [],
   "source": [
    "from numpy import ndarray\n",
    "from pythhon.pbbb.problem import Problem\n",
    "from pythhon.pbbb.boundary_condition import BoundaryCondition\n",
    "from pythhon.pbbb.load import Load\n",
    "from pythhon.pbbb.field import Field\n",
    "from pythhon.fem.element.finite_element import FiniteElement\n",
    "from pythhon.parameters import *\n",
    "from pp.post_processing import *\n",
    "from mgis import behaviour as mgis_bv\n",
    "from pythhon.pbbb.material import Material"
   ]
  },
  {
   "cell_type": "markdown",
   "id": "funded-jacket",
   "metadata": {
    "pycharm": {
     "name": "#%% md\n"
    }
   },
   "source": [
    "## Loading and time steps\n",
    "Define pseudo-time steps"
   ]
  },
  {
   "cell_type": "code",
   "execution_count": 2,
   "outputs": [
    {
     "name": "stdout",
     "output_type": "stream",
     "text": [
      "[0.    0.004 0.008]\n"
     ]
    }
   ],
   "source": [
    "time_steps = np.linspace(0.0, 0.008, 3, dtype=real)\n",
    "iterations = 12\n",
    "print(time_steps)"
   ],
   "metadata": {
    "collapsed": false,
    "pycharm": {
     "name": "#%%\n"
    }
   }
  },
  {
   "cell_type": "markdown",
   "source": [
    "## Volumetric load\n",
    "Define volumetric load"
   ],
   "metadata": {
    "collapsed": false
   }
  },
  {
   "cell_type": "code",
   "execution_count": 3,
   "outputs": [],
   "source": [
    "def volumetric_load(time: float, position: ndarray):\n",
    "    return 0\n",
    "\n",
    "loads = [Load(volumetric_load, 0), Load(volumetric_load, 1)]"
   ],
   "metadata": {
    "collapsed": false,
    "pycharm": {
     "name": "#%%\n"
    }
   }
  },
  {
   "cell_type": "markdown",
   "source": [
    "## Boundary coditions\n",
    "Define boundary conditions"
   ],
   "metadata": {
    "collapsed": false
   }
  },
  {
   "cell_type": "code",
   "execution_count": 4,
   "outputs": [],
   "source": [
    "def pull(time: float, position: ndarray) -> float:\n",
    "    return time\n",
    "\n",
    "def fixed(time: float, position: ndarray) -> float:\n",
    "    return 0.0\n",
    "\n",
    "boundary_conditions = [\n",
    "    BoundaryCondition(\"RIGHT\", pull, BoundaryType.DISPLACEMENT, 0),\n",
    "    BoundaryCondition(\"LEFT\", fixed, BoundaryType.DISPLACEMENT, 0),\n",
    "    BoundaryCondition(\"BOTTOM\", fixed, BoundaryType.DISPLACEMENT, 1),\n",
    "]"
   ],
   "metadata": {
    "collapsed": false,
    "pycharm": {
     "name": "#%%\n"
    }
   }
  },
  {
   "cell_type": "markdown",
   "source": [
    "## Load mesh file\n",
    "\n",
    "load the geof mesh file"
   ],
   "metadata": {
    "collapsed": false
   }
  },
  {
   "cell_type": "code",
   "execution_count": 5,
   "outputs": [],
   "source": [
    "mesh_file_path = \"../meshes/square_1.geof\""
   ],
   "metadata": {
    "collapsed": false,
    "pycharm": {
     "name": "#%%\n"
    }
   }
  },
  {
   "cell_type": "markdown",
   "source": [
    "## Deifne field\n",
    "Define the dield under study (displacement, scalar field, which stress and strain measure, etc.)"
   ],
   "metadata": {
    "collapsed": false
   }
  },
  {
   "cell_type": "code",
   "execution_count": 6,
   "outputs": [],
   "source": [
    "displacement = Field(\n",
    "    label=\"U\",\n",
    "    euclidean_dimension=2,\n",
    "    field_type=FieldType.DISPLACEMENT_PLANE_STRAIN,\n",
    "    strain_type=StrainType.DISPLACEMENT_SYMMETRIC_GRADIENT,\n",
    "    stress_type=StressType.CAUCHY,\n",
    "    derivation_type=DerivationType.SYMMETRIC,\n",
    ")"
   ],
   "metadata": {
    "collapsed": false,
    "pycharm": {
     "name": "#%%\n"
    }
   }
  },
  {
   "cell_type": "markdown",
   "source": [
    "## Define Finite Element\n",
    "Define the finite element"
   ],
   "metadata": {
    "collapsed": false
   }
  },
  {
   "cell_type": "code",
   "execution_count": 7,
   "outputs": [],
   "source": [
    "finite_element = FiniteElement(\n",
    "    element_type=ElementType.HDG_EQUAL,\n",
    "    polynomial_order=1,\n",
    "    euclidean_dimension=2,\n",
    "    basis_type=BasisType.MONOMIAL\n",
    ")"
   ],
   "metadata": {
    "collapsed": false,
    "pycharm": {
     "name": "#%%\n"
    }
   }
  },
  {
   "cell_type": "markdown",
   "source": [
    "## Define problem object\n",
    "Build the problem with the chosen finite element, mesh file, anf field"
   ],
   "metadata": {
    "collapsed": false
   }
  },
  {
   "cell_type": "code",
   "execution_count": 8,
   "outputs": [
    {
     "name": "stdout",
     "output_type": "stream",
     "text": [
      "INTEGRATION ORDER : 4\n"
     ]
    }
   ],
   "source": [
    "p = Problem(\n",
    "    mesh_file_path=mesh_file_path,\n",
    "    field=displacement,\n",
    "    polynomial_order=finite_element.polynomial_order,\n",
    "    finite_element=finite_element,\n",
    "    time_steps=time_steps,\n",
    "    iterations=iterations,\n",
    "    boundary_conditions=boundary_conditions,\n",
    "    loads=loads,\n",
    "    quadrature_type=QuadratureType.GAUSS,\n",
    "    tolerance=1.e-5\n",
    ")"
   ],
   "metadata": {
    "collapsed": false,
    "pycharm": {
     "name": "#%%\n"
    }
   }
  },
  {
   "cell_type": "markdown",
   "source": [
    "## Define material\n",
    "Define the material parameters, hypothesis, etc."
   ],
   "metadata": {
    "collapsed": false
   }
  },
  {
   "cell_type": "code",
   "execution_count": 9,
   "outputs": [],
   "source": [
    "parameters = {\"YoungModulus\": 1.0, \"PoissonRatio\": 0.0}\n",
    "stabilization_parameter = parameters[\"YoungModulus\"] / (1.0 + parameters[\"PoissonRatio\"])\n",
    "\n",
    "mat = Material(\n",
    "    nq=p.mesh.number_of_cell_quadrature_points_in_mesh,\n",
    "    library_path=\"../behaviour/src/libBehaviour.so\",\n",
    "    library_name=\"Elasticity\",\n",
    "    hypothesis=mgis_bv.Hypothesis.PLANESTRAIN,\n",
    "    stabilization_parameter=stabilization_parameter,\n",
    "    lagrange_parameter=parameters[\"YoungModulus\"],\n",
    "    field=displacement,\n",
    "    parameters=None,\n",
    ")"
   ],
   "metadata": {
    "collapsed": false,
    "pycharm": {
     "name": "#%%\n"
    }
   }
  },
  {
   "cell_type": "markdown",
   "source": [
    "## Launch computations\n",
    "Actually launch the computation"
   ],
   "metadata": {
    "collapsed": false
   }
  },
  {
   "cell_type": "code",
   "execution_count": 10,
   "outputs": [
    {
     "name": "stdout",
     "output_type": "stream",
     "text": [
      "/home/dsiedel/Projects/pythhon_shared/res\n",
      "----------------------------------------------------------------------------------------------------\n",
      "TIME_STEP : 0 | LOAD_VALUE : 0.0\n",
      "ITER : 0000 | RES_MAX : 0.0\n",
      "ITERATIONS : 1\n",
      "----------------------------------------------------------------------------------------------------\n",
      "TIME_STEP : 1 | LOAD_VALUE : 0.004\n",
      "ITER : 0000 | RES_MAX : 0.004\n",
      "ITER : 0001 | RES_MAX : 1.8214596497756474e-17\n",
      "ITERATIONS : 2\n",
      "----------------------------------------------------------------------------------------------------\n",
      "TIME_STEP : 2 | LOAD_VALUE : 0.008\n",
      "ITER : 0000 | RES_MAX : 0.004\n",
      "ITER : 0001 | RES_MAX : 1.0215000308584188e-17\n",
      "ITERATIONS : 2\n"
     ]
    },
    {
     "data": {
      "text/plain": "<Figure size 432x288 with 1 Axes>",
      "image/png": "[encoded data removed]"
     },
     "metadata": {
      "needs_background": "light"
     },
     "output_type": "display_data"
    }
   ],
   "source": [
    "\n",
    "p.solve_newton_2(mat, verbose=False, check=False)"
   ],
   "metadata": {
    "collapsed": false,
    "pycharm": {
     "name": "#%%\n"
    }
   }
  }
 ],
 "metadata": {
  "kernelspec": {
   "display_name": "Python 3",
   "language": "python",
   "name": "python3"
  },
  "language_info": {
   "codemirror_mode": {
    "name": "ipython",
    "version": 3
   },
   "file_extension": ".py",
   "mimetype": "text/x-python",
   "name": "python",
   "nbconvert_exporter": "python",
   "pygments_lexer": "ipython3",
   "version": "3.8.5"
  }
 },
 "nbformat": 4,
 "nbformat_minor": 5
}