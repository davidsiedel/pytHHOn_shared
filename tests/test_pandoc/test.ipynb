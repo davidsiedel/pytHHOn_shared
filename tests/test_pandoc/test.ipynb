<h1 id="lorem-ipsum">Lorem ipsum</h1>
<p><strong>Lorem ipsum</strong> dolor sit amet, consectetur adipiscing elit. Nunc luctus bibendum felis dictum sodales.</p>
<pre class="code"><code>print(&quot;hello&quot;)</code></pre>
<h2 id="pyout">Pyout</h2>
<pre class="code"><code>from IPython.display import HTML
HTML(&quot;&quot;&quot;
&lt;script&gt;
console.log(&quot;hello&quot;);
&lt;/script&gt;
&lt;b&gt;HTML&lt;/b&gt;
&quot;&quot;&quot;)</code></pre>
<h2 id="image">Image</h2>
<p>included as a cell attachment.</p>
